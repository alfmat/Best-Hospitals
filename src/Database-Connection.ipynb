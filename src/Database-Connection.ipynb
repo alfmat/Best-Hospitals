{
 "cells": [
  {
   "cell_type": "code",
   "execution_count": 10,
   "metadata": {},
   "outputs": [],
   "source": [
    "import pyodbc\n",
    "import pandas as pd"
   ]
  },
  {
   "cell_type": "code",
   "execution_count": 11,
   "metadata": {},
   "outputs": [],
   "source": [
    "def create_db_conn():\n",
    "    global conn\n",
    "    conn = pyodbc.connect('Driver={SQL Server};'\n",
    "                        'Server=DESKTOP-INR29OP;'\n",
    "                        'Database=healthdata;'\n",
    "                        'Trusted_Connection=yes;')\n",
    "    global cursor\n",
    "    cursor = conn.cursor()"
   ]
  },
  {
   "cell_type": "code",
   "execution_count": 12,
   "metadata": {},
   "outputs": [],
   "source": [
    "def get_data():\n",
    "    data = pd.read_sql_query('select * from data_clean', conn)\n",
    "    return data"
   ]
  },
  {
   "cell_type": "code",
   "execution_count": 13,
   "metadata": {},
   "outputs": [],
   "source": [
    "def run_query(str):\n",
    "    return cursor.execute(str)"
   ]
  },
  {
   "cell_type": "code",
   "execution_count": 14,
   "metadata": {},
   "outputs": [],
   "source": [
    "create_db_conn()"
   ]
  },
  {
   "cell_type": "code",
   "execution_count": 15,
   "metadata": {},
   "outputs": [
    {
     "data": {
      "text/html": [
       "<div>\n",
       "<style scoped>\n",
       "    .dataframe tbody tr th:only-of-type {\n",
       "        vertical-align: middle;\n",
       "    }\n",
       "\n",
       "    .dataframe tbody tr th {\n",
       "        vertical-align: top;\n",
       "    }\n",
       "\n",
       "    .dataframe thead th {\n",
       "        text-align: right;\n",
       "    }\n",
       "</style>\n",
       "<table border=\"1\" class=\"dataframe\">\n",
       "  <thead>\n",
       "    <tr style=\"text-align: right;\">\n",
       "      <th></th>\n",
       "      <th>Facility_Name</th>\n",
       "      <th>State</th>\n",
       "      <th>Measure_Name</th>\n",
       "      <th>Number_of_Discharges</th>\n",
       "      <th>Predicted_Readmission_Rate</th>\n",
       "      <th>Expected_Readmission_Rate</th>\n",
       "      <th>Number_of_Readmissions</th>\n",
       "      <th>id</th>\n",
       "      <th>act_readmission_rate</th>\n",
       "    </tr>\n",
       "  </thead>\n",
       "  <tbody>\n",
       "    <tr>\n",
       "      <th>0</th>\n",
       "      <td>JACKSON HOSPITAL &amp; CLINIC INC</td>\n",
       "      <td>AL</td>\n",
       "      <td>pneumonia</td>\n",
       "      <td>471</td>\n",
       "      <td>18.4574</td>\n",
       "      <td>16.6135</td>\n",
       "      <td>94</td>\n",
       "      <td>1</td>\n",
       "      <td>0.199575</td>\n",
       "    </tr>\n",
       "    <tr>\n",
       "      <th>1</th>\n",
       "      <td>EAST ALABAMA MEDICAL CENTER</td>\n",
       "      <td>AL</td>\n",
       "      <td>hip-knee</td>\n",
       "      <td>719</td>\n",
       "      <td>4.9824</td>\n",
       "      <td>3.9966</td>\n",
       "      <td>40</td>\n",
       "      <td>2</td>\n",
       "      <td>0.055633</td>\n",
       "    </tr>\n",
       "    <tr>\n",
       "      <th>2</th>\n",
       "      <td>EAST ALABAMA MEDICAL CENTER</td>\n",
       "      <td>AL</td>\n",
       "      <td>ca-bypass-graft</td>\n",
       "      <td>-1</td>\n",
       "      <td>9.8950</td>\n",
       "      <td>12.3506</td>\n",
       "      <td>-1</td>\n",
       "      <td>3</td>\n",
       "      <td>1.000000</td>\n",
       "    </tr>\n",
       "    <tr>\n",
       "      <th>3</th>\n",
       "      <td>EAST ALABAMA MEDICAL CENTER</td>\n",
       "      <td>AL</td>\n",
       "      <td>chr-obs-pulmonary</td>\n",
       "      <td>477</td>\n",
       "      <td>17.2980</td>\n",
       "      <td>19.1144</td>\n",
       "      <td>75</td>\n",
       "      <td>4</td>\n",
       "      <td>0.157233</td>\n",
       "    </tr>\n",
       "    <tr>\n",
       "      <th>4</th>\n",
       "      <td>EAST ALABAMA MEDICAL CENTER</td>\n",
       "      <td>AL</td>\n",
       "      <td>heart-attack</td>\n",
       "      <td>253</td>\n",
       "      <td>14.9868</td>\n",
       "      <td>14.7083</td>\n",
       "      <td>39</td>\n",
       "      <td>5</td>\n",
       "      <td>0.154150</td>\n",
       "    </tr>\n",
       "  </tbody>\n",
       "</table>\n",
       "</div>"
      ],
      "text/plain": [
       "                   Facility_Name State       Measure_Name  \\\n",
       "0  JACKSON HOSPITAL & CLINIC INC    AL          pneumonia   \n",
       "1    EAST ALABAMA MEDICAL CENTER    AL           hip-knee   \n",
       "2    EAST ALABAMA MEDICAL CENTER    AL    ca-bypass-graft   \n",
       "3    EAST ALABAMA MEDICAL CENTER    AL  chr-obs-pulmonary   \n",
       "4    EAST ALABAMA MEDICAL CENTER    AL       heart-attack   \n",
       "\n",
       "   Number_of_Discharges  Predicted_Readmission_Rate  \\\n",
       "0                   471                     18.4574   \n",
       "1                   719                      4.9824   \n",
       "2                    -1                      9.8950   \n",
       "3                   477                     17.2980   \n",
       "4                   253                     14.9868   \n",
       "\n",
       "   Expected_Readmission_Rate  Number_of_Readmissions  id  act_readmission_rate  \n",
       "0                    16.6135                      94   1              0.199575  \n",
       "1                     3.9966                      40   2              0.055633  \n",
       "2                    12.3506                      -1   3              1.000000  \n",
       "3                    19.1144                      75   4              0.157233  \n",
       "4                    14.7083                      39   5              0.154150  "
      ]
     },
     "execution_count": 15,
     "metadata": {},
     "output_type": "execute_result"
    }
   ],
   "source": [
    "df = get_data()\n",
    "df.head()"
   ]
  },
  {
   "cell_type": "code",
   "execution_count": 31,
   "metadata": {},
   "outputs": [
    {
     "name": "stdout",
     "output_type": "stream",
     "text": [
      "HARRISBURG MEDICAL CENTER\n",
      "PARKLAND MEDICAL CENTER\n",
      "PROVIDENCE LITTLE COMPANY OF MARY MED CTR TORRANCE\n",
      "MCLEOD LORIS  HOSPITAL\n",
      "WINCHESTER MEDICAL CENTER\n",
      "BAYLOR SCOTT & WHITE MEDICAL CENTER - MARBLE FALLS\n",
      "PHOEBE SUMTER MEDICAL CENTER\n",
      "FRANKLIN MEDICAL CENTER\n",
      "FIVE RIVERS MEDICAL CENTER\n",
      "NORTHSIDE HOSPITAL FORSYTH\n",
      "SANTA MONICA - UCLA MED CTR & ORTHOPAEDIC HOSPITAL\n",
      "MERCY HOSPITAL SPRINGFIELD\n"
     ]
    }
   ],
   "source": [
    "result = run_query('''\n",
    "select distinct Facility_Name from data_clean\n",
    "''')\n",
    "\n",
    "i = 0\n",
    "for row in result:\n",
    "    print(row[0])\n",
    "    if(i>10):\n",
    "        break\n",
    "    i+=1"
   ]
  },
  {
   "cell_type": "code",
   "execution_count": null,
   "metadata": {},
   "outputs": [],
   "source": []
  }
 ],
 "metadata": {
  "kernelspec": {
   "display_name": "Python 3",
   "language": "python",
   "name": "python3"
  },
  "language_info": {
   "codemirror_mode": {
    "name": "ipython",
    "version": 3
   },
   "file_extension": ".py",
   "mimetype": "text/x-python",
   "name": "python",
   "nbconvert_exporter": "python",
   "pygments_lexer": "ipython3",
   "version": "3.7.3"
  }
 },
 "nbformat": 4,
 "nbformat_minor": 2
}
